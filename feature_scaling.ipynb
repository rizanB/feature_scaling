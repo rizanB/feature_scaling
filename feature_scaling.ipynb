{
  "cells": [
    {
      "cell_type": "markdown",
      "metadata": {
        "id": "F14rWdIc1Yy3"
      },
      "source": [
        "Importing data and getting the features first"
      ]
    },
    {
      "cell_type": "code",
      "execution_count": 14,
      "metadata": {
        "id": "4SpquR-Zb03L"
      },
      "outputs": [],
      "source": [
        "import numpy as np\n",
        "import pandas as pd\n",
        "import matplotlib.pyplot as plt\n",
        "import seaborn as sns"
      ]
    },
    {
      "cell_type": "code",
      "execution_count": 15,
      "metadata": {
        "id": "WG9WdsAqieXn"
      },
      "outputs": [],
      "source": [
        "data = pd.read_csv(\"data.csv\")"
      ]
    },
    {
      "cell_type": "code",
      "execution_count": 16,
      "metadata": {
        "id": "3sRcmMq9vGdr"
      },
      "outputs": [],
      "source": [
        "data = data.drop(columns=\"Index\", axis=1)"
      ]
    },
    {
      "cell_type": "markdown",
      "metadata": {
        "id": "meGdq_W4wriC"
      },
      "source": []
    },
    {
      "cell_type": "code",
      "execution_count": 17,
      "metadata": {
        "colab": {
          "base_uri": "https://localhost:8080/",
          "height": 300
        },
        "id": "cZQlT1n8wqhV",
        "outputId": "43ac9b71-aa37-4605-de08-237b0ab236ca"
      },
      "outputs": [
        {
          "data": {
            "text/html": [
              "<div>\n",
              "<style scoped>\n",
              "    .dataframe tbody tr th:only-of-type {\n",
              "        vertical-align: middle;\n",
              "    }\n",
              "\n",
              "    .dataframe tbody tr th {\n",
              "        vertical-align: top;\n",
              "    }\n",
              "\n",
              "    .dataframe thead th {\n",
              "        text-align: right;\n",
              "    }\n",
              "</style>\n",
              "<table border=\"1\" class=\"dataframe\">\n",
              "  <thead>\n",
              "    <tr style=\"text-align: right;\">\n",
              "      <th></th>\n",
              "      <th>Tumor Volume (cc)</th>\n",
              "      <th>Age</th>\n",
              "      <th>Smoking History (years)</th>\n",
              "      <th>Survival (years)</th>\n",
              "    </tr>\n",
              "  </thead>\n",
              "  <tbody>\n",
              "    <tr>\n",
              "      <th>count</th>\n",
              "      <td>30.000000</td>\n",
              "      <td>30.000000</td>\n",
              "      <td>30.000000</td>\n",
              "      <td>30.000000</td>\n",
              "    </tr>\n",
              "    <tr>\n",
              "      <th>mean</th>\n",
              "      <td>211.333333</td>\n",
              "      <td>57.633333</td>\n",
              "      <td>30.066667</td>\n",
              "      <td>2.616667</td>\n",
              "    </tr>\n",
              "    <tr>\n",
              "      <th>std</th>\n",
              "      <td>136.197963</td>\n",
              "      <td>10.873832</td>\n",
              "      <td>16.012782</td>\n",
              "      <td>1.715464</td>\n",
              "    </tr>\n",
              "    <tr>\n",
              "      <th>min</th>\n",
              "      <td>30.000000</td>\n",
              "      <td>36.000000</td>\n",
              "      <td>5.000000</td>\n",
              "      <td>0.300000</td>\n",
              "    </tr>\n",
              "    <tr>\n",
              "      <th>25%</th>\n",
              "      <td>92.500000</td>\n",
              "      <td>49.250000</td>\n",
              "      <td>16.250000</td>\n",
              "      <td>1.125000</td>\n",
              "    </tr>\n",
              "    <tr>\n",
              "      <th>50%</th>\n",
              "      <td>190.000000</td>\n",
              "      <td>58.500000</td>\n",
              "      <td>31.500000</td>\n",
              "      <td>2.300000</td>\n",
              "    </tr>\n",
              "    <tr>\n",
              "      <th>75%</th>\n",
              "      <td>315.000000</td>\n",
              "      <td>66.750000</td>\n",
              "      <td>41.500000</td>\n",
              "      <td>3.875000</td>\n",
              "    </tr>\n",
              "    <tr>\n",
              "      <th>max</th>\n",
              "      <td>500.000000</td>\n",
              "      <td>75.000000</td>\n",
              "      <td>60.000000</td>\n",
              "      <td>6.000000</td>\n",
              "    </tr>\n",
              "  </tbody>\n",
              "</table>\n",
              "</div>"
            ],
            "text/plain": [
              "       Tumor Volume (cc)        Age  Smoking History (years)  Survival (years)\n",
              "count          30.000000  30.000000                30.000000         30.000000\n",
              "mean          211.333333  57.633333                30.066667          2.616667\n",
              "std           136.197963  10.873832                16.012782          1.715464\n",
              "min            30.000000  36.000000                 5.000000          0.300000\n",
              "25%            92.500000  49.250000                16.250000          1.125000\n",
              "50%           190.000000  58.500000                31.500000          2.300000\n",
              "75%           315.000000  66.750000                41.500000          3.875000\n",
              "max           500.000000  75.000000                60.000000          6.000000"
            ]
          },
          "execution_count": 17,
          "metadata": {},
          "output_type": "execute_result"
        }
      ],
      "source": [
        "data.describe()"
      ]
    },
    {
      "cell_type": "code",
      "execution_count": 18,
      "metadata": {
        "id": "aIJ-tVXTzJS0"
      },
      "outputs": [],
      "source": [
        "X = data.drop(columns=\"Survival (years)\", axis=1)"
      ]
    },
    {
      "cell_type": "code",
      "execution_count": 19,
      "metadata": {
        "colab": {
          "base_uri": "https://localhost:8080/",
          "height": 206
        },
        "id": "nZMdWgshzhFb",
        "outputId": "d3acabe9-82ea-489e-b2df-c384dd47b6d0"
      },
      "outputs": [
        {
          "data": {
            "text/html": [
              "<div>\n",
              "<style scoped>\n",
              "    .dataframe tbody tr th:only-of-type {\n",
              "        vertical-align: middle;\n",
              "    }\n",
              "\n",
              "    .dataframe tbody tr th {\n",
              "        vertical-align: top;\n",
              "    }\n",
              "\n",
              "    .dataframe thead th {\n",
              "        text-align: right;\n",
              "    }\n",
              "</style>\n",
              "<table border=\"1\" class=\"dataframe\">\n",
              "  <thead>\n",
              "    <tr style=\"text-align: right;\">\n",
              "      <th></th>\n",
              "      <th>Tumor Volume (cc)</th>\n",
              "      <th>Age</th>\n",
              "      <th>Smoking History (years)</th>\n",
              "    </tr>\n",
              "  </thead>\n",
              "  <tbody>\n",
              "    <tr>\n",
              "      <th>0</th>\n",
              "      <td>150</td>\n",
              "      <td>55</td>\n",
              "      <td>30</td>\n",
              "    </tr>\n",
              "    <tr>\n",
              "      <th>1</th>\n",
              "      <td>300</td>\n",
              "      <td>65</td>\n",
              "      <td>40</td>\n",
              "    </tr>\n",
              "    <tr>\n",
              "      <th>2</th>\n",
              "      <td>50</td>\n",
              "      <td>45</td>\n",
              "      <td>10</td>\n",
              "    </tr>\n",
              "    <tr>\n",
              "      <th>3</th>\n",
              "      <td>400</td>\n",
              "      <td>70</td>\n",
              "      <td>50</td>\n",
              "    </tr>\n",
              "    <tr>\n",
              "      <th>4</th>\n",
              "      <td>100</td>\n",
              "      <td>50</td>\n",
              "      <td>20</td>\n",
              "    </tr>\n",
              "  </tbody>\n",
              "</table>\n",
              "</div>"
            ],
            "text/plain": [
              "   Tumor Volume (cc)  Age  Smoking History (years)\n",
              "0                150   55                       30\n",
              "1                300   65                       40\n",
              "2                 50   45                       10\n",
              "3                400   70                       50\n",
              "4                100   50                       20"
            ]
          },
          "execution_count": 19,
          "metadata": {},
          "output_type": "execute_result"
        }
      ],
      "source": [
        "X.head()"
      ]
    },
    {
      "cell_type": "code",
      "execution_count": 20,
      "metadata": {
        "id": "YXetar_gzrfq"
      },
      "outputs": [],
      "source": [
        "y = data[\"Survival (years)\"]"
      ]
    },
    {
      "cell_type": "code",
      "execution_count": 21,
      "metadata": {
        "colab": {
          "base_uri": "https://localhost:8080/",
          "height": 241
        },
        "id": "wPzNZwlNz6aS",
        "outputId": "050356e7-d8cd-40c6-d30d-63b3ba1c3df8"
      },
      "outputs": [
        {
          "data": {
            "text/plain": [
              "0    3.0\n",
              "1    1.0\n",
              "2    5.0\n",
              "3    0.5\n",
              "4    2.0\n",
              "Name: Survival (years), dtype: float64"
            ]
          },
          "execution_count": 21,
          "metadata": {},
          "output_type": "execute_result"
        }
      ],
      "source": [
        "y.head()"
      ]
    },
    {
      "cell_type": "code",
      "execution_count": 22,
      "metadata": {
        "colab": {
          "base_uri": "https://localhost:8080/"
        },
        "id": "yxe8Ji8E0Nsp",
        "outputId": "9b745916-4ac6-4de2-a134-8e6edc977c6b"
      },
      "outputs": [
        {
          "name": "stdout",
          "output_type": "stream",
          "text": [
            "24 6\n"
          ]
        }
      ],
      "source": [
        "from sklearn.model_selection import train_test_split\n",
        "\n",
        "X_train, X_test, y_train, y_test = train_test_split(X, y, test_size=0.2, random_state=42)\n",
        "\n",
        "print( X_train.shape[0], X_test.shape[0])"
      ]
    },
    {
      "cell_type": "markdown",
      "metadata": {
        "id": "YOywoPlb1tU1"
      },
      "source": [
        "Scaling features with a min-max scaler"
      ]
    },
    {
      "cell_type": "code",
      "execution_count": 23,
      "metadata": {
        "id": "xOofUGpJvUch"
      },
      "outputs": [],
      "source": [
        "from sklearn.preprocessing import MinMaxScaler\n",
        "mm = MinMaxScaler()\n",
        "\n",
        "X_train_scaled = mm.fit_transform(X_train)\n",
        "X_test_scaled = mm.transform(X_test)\n"
      ]
    },
    {
      "cell_type": "code",
      "execution_count": 24,
      "metadata": {
        "colab": {
          "base_uri": "https://localhost:8080/",
          "height": 206
        },
        "id": "wWD5Ck_0A3zu",
        "outputId": "bf32e8cd-3102-4b3f-af8b-3f0368c145eb"
      },
      "outputs": [
        {
          "data": {
            "text/html": [
              "<div>\n",
              "<style scoped>\n",
              "    .dataframe tbody tr th:only-of-type {\n",
              "        vertical-align: middle;\n",
              "    }\n",
              "\n",
              "    .dataframe tbody tr th {\n",
              "        vertical-align: top;\n",
              "    }\n",
              "\n",
              "    .dataframe thead th {\n",
              "        text-align: right;\n",
              "    }\n",
              "</style>\n",
              "<table border=\"1\" class=\"dataframe\">\n",
              "  <thead>\n",
              "    <tr style=\"text-align: right;\">\n",
              "      <th></th>\n",
              "      <th>Tumor volume (cc)</th>\n",
              "      <th>Age</th>\n",
              "      <th>Smoking History (years)</th>\n",
              "    </tr>\n",
              "  </thead>\n",
              "  <tbody>\n",
              "    <tr>\n",
              "      <th>0</th>\n",
              "      <td>0.621622</td>\n",
              "      <td>0.794118</td>\n",
              "      <td>0.755556</td>\n",
              "    </tr>\n",
              "    <tr>\n",
              "      <th>1</th>\n",
              "      <td>0.189189</td>\n",
              "      <td>0.441176</td>\n",
              "      <td>0.355556</td>\n",
              "    </tr>\n",
              "    <tr>\n",
              "      <th>2</th>\n",
              "      <td>0.783784</td>\n",
              "      <td>0.882353</td>\n",
              "      <td>0.733333</td>\n",
              "    </tr>\n",
              "    <tr>\n",
              "      <th>3</th>\n",
              "      <td>0.324324</td>\n",
              "      <td>0.558824</td>\n",
              "      <td>0.555556</td>\n",
              "    </tr>\n",
              "    <tr>\n",
              "      <th>4</th>\n",
              "      <td>0.189189</td>\n",
              "      <td>0.411765</td>\n",
              "      <td>0.333333</td>\n",
              "    </tr>\n",
              "  </tbody>\n",
              "</table>\n",
              "</div>"
            ],
            "text/plain": [
              "   Tumor volume (cc)       Age  Smoking History (years)\n",
              "0           0.621622  0.794118                 0.755556\n",
              "1           0.189189  0.441176                 0.355556\n",
              "2           0.783784  0.882353                 0.733333\n",
              "3           0.324324  0.558824                 0.555556\n",
              "4           0.189189  0.411765                 0.333333"
            ]
          },
          "execution_count": 24,
          "metadata": {},
          "output_type": "execute_result"
        }
      ],
      "source": [
        "X_train_scaled_df = pd.DataFrame(X_train_scaled, columns=[\"Tumor volume (cc)\", \"Age\", \"Smoking History (years)\"])\n",
        "X_train_scaled_df.head()"
      ]
    },
    {
      "cell_type": "markdown",
      "metadata": {
        "id": "5tx9Wh8b1jX9"
      },
      "source": [
        "Training a support vector regression model on the unscaled and scaled feature set"
      ]
    },
    {
      "cell_type": "code",
      "execution_count": 25,
      "metadata": {
        "colab": {
          "base_uri": "https://localhost:8080/"
        },
        "id": "YcPBvEzRvkTd",
        "outputId": "a60fbe4b-19e0-48d4-e056-e54aeb1b66be"
      },
      "outputs": [
        {
          "name": "stdout",
          "output_type": "stream",
          "text": [
            "SVM Regression MSE (Original): 0.3126109977888167\n",
            "SVM Regression R^2 (Original): 0.8693219238226033\n",
            "SVM Regression MSE (Scaled): 0.16916831801926205\n",
            "SVM Regression R^2 (Scaled): 0.9292840286960818\n"
          ]
        }
      ],
      "source": [
        "from sklearn.svm import SVR\n",
        "from sklearn.metrics import mean_squared_error, r2_score\n",
        "\n",
        "svm_reg = SVR(kernel='linear')\n",
        "svm_reg.fit(X_train, y_train)\n",
        "\n",
        "svm_reg_scaled = SVR(kernel='linear')\n",
        "svm_reg_scaled.fit(X_train_scaled, y_train)\n",
        "\n",
        "y_pred_svm = svm_reg.predict(X_test)\n",
        "y_pred_svm_scaled = svm_reg_scaled.predict(X_test_scaled)\n",
        "\n",
        "mse_svm = mean_squared_error(y_test, y_pred_svm)\n",
        "r2_svm = r2_score(y_test, y_pred_svm)\n",
        "\n",
        "mse_svm_scaled = mean_squared_error(y_test, y_pred_svm_scaled)\n",
        "r2_svm_scaled = r2_score(y_test, y_pred_svm_scaled)\n",
        "\n",
        "print(\"SVM Regression MSE (Original):\", mse_svm)\n",
        "print(\"SVM Regression R^2 (Original):\", r2_svm)\n",
        "\n",
        "print(\"SVM Regression MSE (Scaled):\", mse_svm_scaled)\n",
        "print(\"SVM Regression R^2 (Scaled):\", r2_svm_scaled)"
      ]
    },
    {
      "cell_type": "markdown",
      "metadata": {
        "id": "93a3Dr-Y5U5E"
      },
      "source": [
        "We see there's a difference in the MSE and R^2 between the models for scaled/ unscaled features. Let's visualize this"
      ]
    },
    {
      "cell_type": "code",
      "execution_count": 26,
      "metadata": {
        "colab": {
          "base_uri": "https://localhost:8080/",
          "height": 601
        },
        "id": "bGknNDyF3Ej_",
        "outputId": "118afedc-f344-4030-a5b5-6a3476ad9dde"
      },
      "outputs": [
        {
          "data": {
            "image/png": "[encoded data removed]",
            "text/plain": [
              "<Figure size 1000x600 with 1 Axes>"
            ]
          },
          "metadata": {},
          "output_type": "display_data"
        }
      ],
      "source": [
        "\n",
        "results = {\n",
        "    'Metric': ['MSE', 'R^2'],\n",
        "    'Original': [mse_svm, r2_svm],\n",
        "    'Scaled': [mse_svm_scaled, r2_svm_scaled]\n",
        "}\n",
        "\n",
        "results_df = pd.DataFrame(results)\n",
        "\n",
        "sns.set_theme(style=\"whitegrid\")\n",
        "custom_palette = [\"#1f77b4\", \"#ff7f0e\"]\n",
        "\n",
        "melted_results = pd.melt(results_df, id_vars=['Metric'], var_name='Model', value_name='Value')\n",
        "\n",
        "plt.figure(figsize=(10, 6))\n",
        "bar_plot = sns.barplot(x='Metric', y='Value', hue='Model', data=melted_results, palette=custom_palette)\n",
        "\n",
        "\n",
        "for p in bar_plot.patches:\n",
        "    bar_plot.annotate(format(p.get_height(), '.2f'),\n",
        "                      (p.get_x() + p.get_width() / 2., p.get_height()),\n",
        "                      ha='center', va='bottom', fontsize=12, color='black',\n",
        "                      xytext=(0, 5),\n",
        "                      textcoords='offset points')\n",
        "\n",
        "\n",
        "plt.title('SVM Regression Performance Comparison', fontsize=16)\n",
        "plt.ylabel('Value', fontsize=14)\n",
        "plt.xlabel('Metrics', fontsize=14)\n",
        "plt.xticks(fontsize=12)\n",
        "plt.yticks(fontsize=12)\n",
        "plt.legend(title='Features', fontsize=12, title_fontsize='13')\n",
        "plt.tight_layout()\n",
        "\n",
        "plt.show()"
      ]
    },
    {
      "cell_type": "code",
      "execution_count": null,
      "metadata": {},
      "outputs": [],
      "source": []
    }
  ],
  "metadata": {
    "accelerator": "GPU",
    "colab": {
      "gpuType": "T4",
      "provenance": []
    },
    "kernelspec": {
      "display_name": "Python 3",
      "name": "python3"
    },
    "language_info": {
      "codemirror_mode": {
        "name": "ipython",
        "version": 3
      },
      "file_extension": ".py",
      "mimetype": "text/x-python",
      "name": "python",
      "nbconvert_exporter": "python",
      "pygments_lexer": "ipython3",
      "version": "3.9.13"
    }
  },
  "nbformat": 4,
  "nbformat_minor": 0
}
